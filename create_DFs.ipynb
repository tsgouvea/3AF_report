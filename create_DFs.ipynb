{
 "cells": [
  {
   "cell_type": "code",
   "execution_count": 1,
   "metadata": {},
   "outputs": [],
   "source": [
    "import os\n",
    "import pickle\n",
    "\n",
    "import numpy as np\n",
    "import pandas as pd\n",
    "\n",
    "from scipy.optimize import curve_fit\n",
    "\n",
    "from tasks import flux"
   ]
  },
  {
   "cell_type": "markdown",
   "metadata": {},
   "source": [
    "## Flux"
   ]
  },
  {
   "cell_type": "code",
   "execution_count": 9,
   "metadata": {},
   "outputs": [
    {
     "data": {
      "text/plain": [
       "array(['TG023', 'TG024', 'TG025', 'TG026'], dtype='<U10')"
      ]
     },
     "execution_count": 9,
     "metadata": {},
     "output_type": "execute_result"
    }
   ],
   "source": [
    "path_ds = os.path.join('/Users','thiago','Neurodata','Datasets','flux_dsB1/')\n",
    "cal = ('Jan','Feb','Mar','Apr','May','Jun','Jul','Aug','Sep','Oct','Nov','Dec')\n",
    "listSubj = np.array(os.listdir(path_ds))\n",
    "listSubj = listSubj[np.logical_not([n.startswith('.') for n in listSubj])]\n",
    "listSubj = listSubj[[os.path.isdir(os.path.join(path_ds,n)) for n in listSubj]]\n",
    "listSubj.sort()\n",
    "listSubj"
   ]
  },
  {
   "cell_type": "code",
   "execution_count": 56,
   "metadata": {},
   "outputs": [],
   "source": [
    "dicVI = {'armNo':[],'interval':[],'subj':[], 'date':[],'ndx':[]}\n",
    "\n",
    "ndxOffset=0\n",
    "for iSubj in range(len(listSubj)):\n",
    "    nameSubj=listSubj[iSubj]\n",
    "    if not os.path.isdir(os.path.join(path_ds,nameSubj)):\n",
    "        continue\n",
    "    listSess = np.array(os.listdir(os.path.join(path_ds,nameSubj)))\n",
    "    listSess = listSess[[n.endswith('b.pkl') for n in listSess]]\n",
    "    listSess.sort()\n",
    "    for iSess in range(len(listSess)):\n",
    "        nameSess = listSess[iSess]\n",
    "\n",
    "        with open(os.path.join(path_ds,nameSubj,nameSess), 'rb') as filehandler:\n",
    "            sess = pickle.load(filehandler)\n",
    "\n",
    "        sessname = sess.fname.split('_')\n",
    "        \n",
    "        for iArm in set(sess.dfRwd['arm']):\n",
    "            dfRwd = sess.dfRwd.loc[sess.dfRwd['arm']==iArm]\n",
    "            dfSetup = sess.dfSetup.loc[sess.dfSetup['arm']==iArm]\n",
    "            ndx=dfRwd.index\n",
    "            for iRew in range(len(ndx)-1):\n",
    "                tsRwd=dfRwd['tsRwd'].loc[ndx[iRew]]                \n",
    "                dicVI['armNo'].append(iArm)\n",
    "                dicVI['interval'].append(dfSetup['tsSetup'].loc[dfSetup['tsSetup']>tsRwd].min()-tsRwd)\n",
    "                dicVI['subj'].append(nameSubj)\n",
    "                dicVI['date'].append(sessname[3] + str(np.where([n == sessname[2][0:3] for n in cal])[0][0]+1).zfill(2) + sessname[2][3:6])\n",
    "                dicVI['ndx'].append(ndx[iRew]+ndxOffset)\n",
    "        ndxOffset=max(dicVI['ndx'])+1\n",
    "        \n",
    "\n",
    "dfVI = pd.DataFrame(dicVI)\n",
    "dfVI=dfVI.set_index('ndx')\n",
    "dfVI=dfVI.sort_index()\n",
    "dfVI=dfVI[['subj', 'date','armNo','interval']]"
   ]
  },
  {
   "cell_type": "code",
   "execution_count": 69,
   "metadata": {},
   "outputs": [
    {
     "name": "stdout",
     "output_type": "stream",
     "text": [
      "TG026 20180625\n",
      "TG026 20180625\n"
     ]
    }
   ],
   "source": [
    "dfVI['armVal']=np.nan\n",
    "\n",
    "\n",
    "\n",
    "for iSubj in range(len(listSubj)):\n",
    "    nameSubj=listSubj[iSubj]\n",
    "    ndxSubj=dfVI['subj']==nameSubj\n",
    "    listSess = np.array(list(set(dfVI[ndxSubj].date)))\n",
    "    listSess.sort()\n",
    "    for iSess in range(len(listSess)):\n",
    "        nameSess = listSess[iSess]\n",
    "        ndxSess=np.logical_and(ndxSubj,dfVI['date']==nameSess)\n",
    "        mu=np.full(3,np.nan)\n",
    "        sigma=np.full(3,np.nan)\n",
    "        armVal=np.full(3,np.nan)\n",
    "        for iArm in set(dfVI[ndxSess]['armNo']):\n",
    "            ndxArm=np.logical_and(ndxSess,dfVI['armNo']==iArm)\n",
    "            mu[iArm]=dfVI[ndxArm]['interval'].mean()\n",
    "            sigma[iArm]=dfVI[ndxArm]['interval'].std()\n",
    "        for iArm in set(dfVI[ndxSess]['armNo']):\n",
    "            try:\n",
    "                assert(np.arange(3)[mu[iArm]==sorted(mu)].item()==np.arange(3)[sigma[iArm]==sorted(sigma)].item())\n",
    "            except:\n",
    "                print(nameSubj,nameSess)\n",
    "            \n",
    "            ndxArm=np.logical_and(ndxSess,dfVI['armNo']==iArm)\n",
    "            dfVI.iloc[np.arange(len(dfVI))[ndxArm],np.arange(len(dfVI.columns))[dfVI.columns=='armVal'].item()]=np.arange(3)[mu[iArm]==sorted(mu)].item()\n",
    "\n",
    "dfVI.armVal=dfVI.armVal.astype(int)"
   ]
  },
  {
   "cell_type": "code",
   "execution_count": 71,
   "metadata": {},
   "outputs": [],
   "source": [
    "with open(os.path.join('/Users','thiago','Neurocode','Scripts_TaskSuite','3AF_report','dfVI.pkl'),'wb') as fhandle:\n",
    "    pickle.dump(dfVI,fhandle)"
   ]
  },
  {
   "cell_type": "code",
   "execution_count": 11,
   "metadata": {},
   "outputs": [],
   "source": [
    "dicLing = {'armNo':[],'armVal':[],'lingert':[],'nRew':[],'subj':[], 'date':[]}\n",
    "\n",
    "for iSubj in range(len(listSubj)):\n",
    "    nameSubj=listSubj[iSubj]\n",
    "    if not os.path.isdir(os.path.join(path_ds,nameSubj)):\n",
    "        continue\n",
    "    listSess = np.array(os.listdir(os.path.join(path_ds,nameSubj)))\n",
    "    listSess = listSess[[n.endswith('b.pkl') for n in listSess]]\n",
    "    listSess.sort()\n",
    "    for iSess in range(len(listSess)):\n",
    "        nameSess = listSess[iSess]\n",
    "\n",
    "        with open(os.path.join(path_ds,nameSubj,nameSess), 'rb') as filehandler:\n",
    "            sess = pickle.load(filehandler)\n",
    "\n",
    "        sessname = sess.fname.split('_')\n",
    "        tsPoke = sess.dfPokes['tsPoke']\n",
    "        arm = sess.dfPokes['arm']\n",
    "        \n",
    "        MeanABC=sess.params.index[[n.startswith('Mean') for n in sess.params.index]]\n",
    "        ndxSwi=np.where(sess.dfPokes['isSwitch'])[0]\n",
    "        \n",
    "        for i in range(len(ndxSwi)-1):\n",
    "            assert(arm.iloc[ndxSwi[i+1]-1]==arm.iloc[ndxSwi[i]])\n",
    "            dicLing['armNo'].append(arm.iloc[ndxSwi[i]])\n",
    "            dicLing['armVal'].append(sess.params[MeanABC][arm.iloc[ndxSwi[i]]])\n",
    "            dicLing['lingert'].append(tsPoke.iloc[ndxSwi[i+1]-1]-tsPoke.iloc[ndxSwi[i]])\n",
    "            dicLing['subj'].append(nameSubj)\n",
    "            dicLing['date'].append(sessname[3] + str(np.where([n == sessname[2][0:3] for n in cal])[0][0]+1).zfill(2) + sessname[2][3:6])\n",
    "            dicLing['nRew'].append(sess.dfPokes['isRwded'].iloc[ndxSwi[i]:ndxSwi[i+1]].sum())\n",
    "            \n",
    "\n",
    "dfLing = pd.DataFrame(dicLing)\n",
    "dfLing=dfLing[['subj', 'date','armNo','armVal','nRew','lingert']]\n",
    "dfLing=dfLing.sort_values(['subj','date'])"
   ]
  },
  {
   "cell_type": "code",
   "execution_count": 13,
   "metadata": {},
   "outputs": [],
   "source": [
    "with open(os.path.join('/Users','thiago','Neurocode','Scripts_TaskSuite','3AF_report','dfLing.pkl'),'wb') as fhandle:\n",
    "    pickle.dump(dfLing,fhandle)"
   ]
  },
  {
   "cell_type": "code",
   "execution_count": null,
   "metadata": {},
   "outputs": [],
   "source": []
  }
 ],
 "metadata": {
  "kernelspec": {
   "display_name": "Python [conda env:tasksuite]",
   "language": "python",
   "name": "conda-env-tasksuite-py"
  },
  "language_info": {
   "codemirror_mode": {
    "name": "ipython",
    "version": 3
   },
   "file_extension": ".py",
   "mimetype": "text/x-python",
   "name": "python",
   "nbconvert_exporter": "python",
   "pygments_lexer": "ipython3",
   "version": "3.6.4"
  }
 },
 "nbformat": 4,
 "nbformat_minor": 2
}
