{
 "cells": [
  {
   "cell_type": "code",
   "execution_count": null,
   "metadata": {},
   "outputs": [],
   "source": [
    "import os\n",
    "import pickle\n",
    "\n",
    "import numpy as np\n",
    "import pandas as pd\n",
    "\n",
    "from scipy.optimize import curve_fit\n",
    "from importlib import reload\n",
    "\n",
    "from tasks import flux, fluxseries"
   ]
  },
  {
   "cell_type": "code",
   "execution_count": null,
   "metadata": {},
   "outputs": [],
   "source": [
    "reload(flux)"
   ]
  },
  {
   "cell_type": "markdown",
   "metadata": {},
   "source": [
    "# Flux"
   ]
  },
  {
   "cell_type": "code",
   "execution_count": null,
   "metadata": {},
   "outputs": [],
   "source": [
    "path_ds = os.path.join('/Users','thiago','Neurodata','Datasets','flux_Thiago01/')\n",
    "cal = ('Jan','Feb','Mar','Apr','May','Jun','Jul','Aug','Sep','Oct','Nov','Dec')\n",
    "listSubj = np.array(os.listdir(path_ds))\n",
    "listSubj = listSubj[np.logical_not([n.startswith('.') for n in listSubj])]\n",
    "listSubj = listSubj[[os.path.isdir(os.path.join(path_ds,n)) for n in listSubj]]\n",
    "listSubj.sort()\n",
    "listSubj"
   ]
  },
  {
   "cell_type": "markdown",
   "metadata": {},
   "source": [
    "## If no pickle"
   ]
  },
  {
   "cell_type": "code",
   "execution_count": null,
   "metadata": {},
   "outputs": [],
   "source": [
    "for (dirpath, dirnames, filenames) in os.walk(path_ds):\n",
    "    ndxDir=np.array([n.startswith('flux') for n in dirpath.split('/')])\n",
    "    ndxFile=np.array([n.endswith('.mat') for n in filenames])\n",
    "    if np.logical_and(ndxDir.any(),ndxFile.any()):\n",
    "        for filename in np.array(filenames)[ndxFile]:\n",
    "            try:\n",
    "                sess=flux.parseSess(os.path.join(dirpath,filename))\n",
    "            except Exception as e:\n",
    "                print(e)\n",
    "                print('no pickle for you: Problem parsing ' + listSess[iSess])\n",
    "                continue\n",
    "            print('\\t pickling ' + filename.split('.')[0] + '.pkl')\n",
    "            with open(os.path.join(dirpath,filename.split('.')[0]+'.pkl'),'wb') as fhandle:\n",
    "                pickle.dump(sess,fhandle,pickle.HIGHEST_PROTOCOL)            "
   ]
  },
  {
   "cell_type": "markdown",
   "metadata": {},
   "source": [
    "## dfVI (table of intervals)"
   ]
  },
  {
   "cell_type": "code",
   "execution_count": null,
   "metadata": {},
   "outputs": [],
   "source": [
    "dicVI = {'armNo':[],'interval':[],'subj':[], 'date':[],'ndx':[]}\n",
    "\n",
    "ndxOffset=0\n",
    "for iSubj in range(len(listSubj)):\n",
    "    nameSubj=listSubj[iSubj]\n",
    "    if not os.path.isdir(os.path.join(path_ds,nameSubj)):\n",
    "        continue\n",
    "    listSess = np.array(os.listdir(os.path.join(path_ds,nameSubj)))\n",
    "    listSess = listSess[[n.endswith('.pkl') for n in listSess]]\n",
    "    listSess.sort()\n",
    "    for iSess in range(len(listSess)):\n",
    "        nameSess = listSess[iSess]\n",
    "\n",
    "        with open(os.path.join(path_ds,nameSubj,nameSess), 'rb') as filehandler:\n",
    "            sess = pickle.load(filehandler)\n",
    "\n",
    "        sessname = sess.fname.split('_')\n",
    "        \n",
    "        for iArm in set(sess.dfRwd['arm']):\n",
    "            dfRwd = sess.dfRwd.loc[sess.dfRwd['arm']==iArm]\n",
    "            dfSetup = sess.dfSetup.loc[sess.dfSetup['arm']==iArm]\n",
    "            ndx=dfRwd.index\n",
    "            for iRew in range(len(ndx)-1):\n",
    "                tsRwd=dfRwd['tsRwd'].loc[ndx[iRew]]                \n",
    "                dicVI['armNo'].append(iArm)\n",
    "                dicVI['interval'].append(dfSetup['tsSetup'].loc[dfSetup['tsSetup']>tsRwd].min()-tsRwd)\n",
    "                dicVI['subj'].append(nameSubj)\n",
    "                dicVI['date'].append(sessname[3] + str(np.where([n == sessname[2][0:3] for n in cal])[0][0]+1).zfill(2) + sessname[2][3:6] + '_' + sessname[4].split('.')[0][-1])\n",
    "                dicVI['ndx'].append(ndx[iRew]+ndxOffset)\n",
    "        ndxOffset=max(dicVI['ndx'])+1\n",
    "        \n",
    "\n",
    "dfVI = pd.DataFrame(dicVI)\n",
    "dfVI=dfVI.set_index('ndx')\n",
    "dfVI=dfVI.sort_index()\n",
    "dfVI=dfVI[['subj', 'date','armNo','interval']]"
   ]
  },
  {
   "cell_type": "code",
   "execution_count": null,
   "metadata": {},
   "outputs": [],
   "source": [
    "dfVI['armVal']=np.nan\n",
    "\n",
    "for iSubj in range(len(listSubj)):\n",
    "    nameSubj=listSubj[iSubj]\n",
    "    ndxSubj=dfVI['subj']==nameSubj\n",
    "    listSess = np.array(list(set(dfVI[ndxSubj].date)))\n",
    "    listSess.sort()\n",
    "    for iSess in range(len(listSess)):\n",
    "        nameSess = listSess[iSess]\n",
    "        ndxSess=np.logical_and(ndxSubj,dfVI['date']==nameSess)\n",
    "        mu=np.full(3,np.nan)\n",
    "        sigma=np.full(3,np.nan)\n",
    "        armVal=np.full(3,np.nan)\n",
    "        for iArm in set(dfVI[ndxSess]['armNo']):\n",
    "            ndxArm=np.logical_and(ndxSess,dfVI['armNo']==iArm)\n",
    "            mu[iArm]=dfVI[ndxArm]['interval'].mean()\n",
    "            sigma[iArm]=dfVI[ndxArm]['interval'].std()\n",
    "        for iArm in set(dfVI[ndxSess]['armNo']):\n",
    "            try:\n",
    "                assert(np.arange(3)[mu[iArm]==sorted(mu)].item()==np.arange(3)[sigma[iArm]==sorted(sigma)].item())\n",
    "            except:\n",
    "                print('Ordering by mean and std differs for')\n",
    "                print(nameSubj,nameSess)\n",
    "                \n",
    "            ndxArm=np.logical_and(ndxSess,dfVI['armNo']==iArm)\n",
    "            dfVI.iloc[np.arange(len(dfVI))[ndxArm],np.arange(len(dfVI.columns))[dfVI.columns=='armVal'].item()]=np.arange(3)[mu[iArm]==sorted(mu)].item()\n",
    "            \n",
    "        print(mu, sigma)\n",
    "\n",
    "dfVI.armVal=dfVI.armVal.astype(int)"
   ]
  },
  {
   "cell_type": "code",
   "execution_count": null,
   "metadata": {},
   "outputs": [],
   "source": [
    "with open(os.path.join('/Users','thiago','Neurocode','Scripts_TaskSuite','3AF_report','dfVI.pkl'),'wb') as fhandle:\n",
    "    pickle.dump(dfVI,fhandle)"
   ]
  },
  {
   "cell_type": "markdown",
   "metadata": {},
   "source": [
    "## dfList (table with session summary)"
   ]
  },
  {
   "cell_type": "code",
   "execution_count": null,
   "metadata": {},
   "outputs": [],
   "source": [
    "dicList = {'subj':[],'date':[],'IRI':[],'VI':[],'cued':[],'deplete':[],'dur':[],\\\n",
    "          'meanA':[],'meanB':[],'meanC':[],'rewSize':[],'fname':[],'sessname':[]}\n",
    "\n",
    "cal = ('Jan','Feb','Mar','Apr','May','Jun','Jul','Aug','Sep','Oct','Nov','Dec')\n",
    "\n",
    "listInt=(3,6,12)\n",
    "\n",
    "for iSubj in range(len(listSubj)):\n",
    "    nameSubj = listSubj[iSubj]\n",
    "    print(iSubj,nameSubj)\n",
    "\n",
    "    pathSess = os.path.join(path_ds,nameSubj)\n",
    "    listSess = os.listdir(pathSess)\n",
    "    \n",
    "    listSess.sort()\n",
    "    listSess=np.array(listSess)\n",
    "    listSess=listSess[[ n.endswith('.pkl') for n in listSess ]]\n",
    "\n",
    "    for iSess in range(len(listSess)):\n",
    "        \n",
    "        fname=os.path.join(pathSess,listSess[iSess])\n",
    "        with open(fname,'rb') as filehandler:\n",
    "            sess = pickle.load(filehandler)\n",
    "            \n",
    "        sessname = sess.fname.split('_')\n",
    "        date=sessname[3] + str(np.where([n == sessname[2][0:3] for n in cal])[0][0]+1).zfill(2) + sessname[2][3:6] + '_' + sessname[4].split('.')[0][-1]\n",
    "        dicList['IRI'].append(int(sess.params['IRI']))\n",
    "        \n",
    "        ndxVI=np.logical_and(dfVI.subj==nameSubj,dfVI.date==date)\n",
    "        dicList['meanA'].append(listInt[np.array(list(set(dfVI[np.logical_and(ndxVI,dfVI.armNo==0)].armVal))).item()])\n",
    "        dicList['meanB'].append(listInt[np.array(list(set(dfVI[np.logical_and(ndxVI,dfVI.armNo==1)].armVal))).item()])\n",
    "        dicList['meanC'].append(listInt[np.array(list(set(dfVI[np.logical_and(ndxVI,dfVI.armNo==2)].armVal))).item()])\n",
    "        \n",
    "        dicList['VI'].append(bool(sess.params['VI']))\n",
    "        \n",
    "        dicList['rewSize'].append(int(sess.params['rewFirst']))\n",
    "\n",
    "        dicList['sessname'].append(sess.fname)\n",
    "        dicList['subj'].append(sessname[0])\n",
    "        dicList['date'].append(date)\n",
    "        dicList['fname'].append(fname)\n",
    "\n",
    "        dicList['dur'].append(int((sess.dfPokes['tsPoke'].iloc[-1]-sess.dfPokes['tsPoke'].iloc[0])/60))\n",
    "        if 'Cued' in sess.params.keys():\n",
    "            dicList['cued'].append(bool(sess.params['Cued']))\n",
    "        else:\n",
    "            dicList['cued'].append(False)\n",
    "            \n",
    "        if 'Deplete' in sess.params.keys():\n",
    "            dicList['deplete'].append(bool(sess.params['Deplete']))\n",
    "        else:\n",
    "            dicList['deplete'].append(True)\n",
    "            continue"
   ]
  },
  {
   "cell_type": "code",
   "execution_count": null,
   "metadata": {},
   "outputs": [],
   "source": [
    "dfSessList=pd.DataFrame(dicList)"
   ]
  },
  {
   "cell_type": "code",
   "execution_count": null,
   "metadata": {},
   "outputs": [],
   "source": [
    "with open(os.path.join('/Users','thiago','Neurocode','Scripts_TaskSuite','3AF_report','dfSessList.pkl'),'wb') as fhandle:\n",
    "    pickle.dump(dfSessList,fhandle)"
   ]
  },
  {
   "cell_type": "code",
   "execution_count": null,
   "metadata": {},
   "outputs": [],
   "source": [
    "dfSessList"
   ]
  },
  {
   "cell_type": "markdown",
   "metadata": {},
   "source": [
    "## dfLing (table of time spent per visit)"
   ]
  },
  {
   "cell_type": "code",
   "execution_count": null,
   "metadata": {},
   "outputs": [],
   "source": [
    "dicLing = {'armNo':[],'armVal':[],'lingert':[],'nRew':[],'subj':[], 'date':[]}\n",
    "\n",
    "for iSubj in range(len(listSubj)):\n",
    "    nameSubj=listSubj[iSubj]\n",
    "    if not os.path.isdir(os.path.join(path_ds,nameSubj)):\n",
    "        continue\n",
    "    listSess = np.array(os.listdir(os.path.join(path_ds,nameSubj)))\n",
    "    listSess = listSess[[n.endswith('.pkl') for n in listSess]]\n",
    "    listSess.sort()\n",
    "    for iSess in range(len(listSess)):\n",
    "        nameSess = listSess[iSess]\n",
    "\n",
    "        with open(os.path.join(path_ds,nameSubj,nameSess), 'rb') as filehandler:\n",
    "            sess = pickle.load(filehandler)\n",
    "\n",
    "        sessname = sess.fname.split('_')\n",
    "        tsPoke = sess.dfPokes['tsPoke']\n",
    "        arm = sess.dfPokes['arm']\n",
    "        \n",
    "        MeanABC=sess.params.index[[n.startswith('Mean') for n in sess.params.index]]\n",
    "        ndxSwi=np.where(sess.dfPokes['isSwitch'])[0]\n",
    "        \n",
    "        for i in range(len(ndxSwi)-1):\n",
    "            assert(arm.iloc[ndxSwi[i+1]-1]==arm.iloc[ndxSwi[i]])\n",
    "            dicLing['armNo'].append(arm.iloc[ndxSwi[i]])\n",
    "            dicLing['armVal'].append(sess.params[MeanABC][arm.iloc[ndxSwi[i]]])\n",
    "            dicLing['lingert'].append(tsPoke.iloc[ndxSwi[i+1]-1]-tsPoke.iloc[ndxSwi[i]])\n",
    "            dicLing['subj'].append(nameSubj)\n",
    "            dicLing['date'].append(sessname[3] + str(np.where([n == sessname[2][0:3] for n in cal])[0][0]+1).zfill(2) + sessname[2][3:6] + '_' + sessname[4].split('.')[0][-1])\n",
    "            dicLing['nRew'].append(sess.dfPokes['isRwded'].iloc[ndxSwi[i]:ndxSwi[i+1]].sum())\n",
    "\n",
    "dfLing = pd.DataFrame(dicLing)\n",
    "dfLing=dfLing[['subj', 'date','armNo','armVal','nRew','lingert']]\n",
    "dfLing=dfLing.sort_values(['subj','date'])"
   ]
  },
  {
   "cell_type": "code",
   "execution_count": null,
   "metadata": {},
   "outputs": [],
   "source": [
    "with open(os.path.join('/Users','thiago','Neurocode','Scripts_TaskSuite','3AF_report','dfLing.pkl'),'wb') as fhandle:\n",
    "    pickle.dump(dfLing,fhandle)"
   ]
  },
  {
   "cell_type": "markdown",
   "metadata": {},
   "source": [
    "## dfTince (table of elapsed time since rwds at time of disengagement)"
   ]
  },
  {
   "cell_type": "markdown",
   "metadata": {},
   "source": [
    "dicTince = {'arm':[],'nextArm':[],'nextRwded':[],'tinceR0':[],'tinceR1':[],'tinceR2':[],'travel':[],'subj':[],'date':[]}\n",
    "off=[]\n",
    "for iSubj in range(len(listSubj)):\n",
    "    nameSubj=listSubj[iSubj]\n",
    "    if not os.path.isdir(os.path.join(path_ds,nameSubj)):\n",
    "        continue\n",
    "    listSess = np.array(os.listdir(os.path.join(path_ds,nameSubj)))\n",
    "    listSess = listSess[[n.endswith('b.pkl') for n in listSess]]\n",
    "    listSess.sort()\n",
    "    for iSess in range(len(listSess)):\n",
    "        nameSess = listSess[iSess]\n",
    "\n",
    "        with open(os.path.join(path_ds,nameSubj,nameSess), 'rb') as filehandler:\n",
    "            sess = pickle.load(filehandler)\n",
    "\n",
    "        sessname = sess.fname.split('_')\n",
    "        \n",
    "        dfPokes=sess.dfPokes.sort_values('tsPoke')\n",
    "        dfRwd=sess.dfRwd.sort_values('tsRwd')\n",
    "        \n",
    "        for i in dfRwd.index:\n",
    "            try:\n",
    "                assert(dfPokes.loc[i][dfPokes.loc[i].isRwded].arm.item()==dfRwd.loc[i].arm.item())\n",
    "                "
   ]
  },
  {
   "cell_type": "code",
   "execution_count": null,
   "metadata": {},
   "outputs": [],
   "source": [
    "dicTince = {'arm':[],'nextArm':[],'nextRwded':[],'tinceR0':[],'tinceR1':[],'tinceR2':[],'tinceC0':[],'tinceC1':[],'tinceC2':[],'travel':[],'subj':[],'date':[]}\n",
    "off=[]\n",
    "for iSubj in range(len(listSubj)):\n",
    "    nameSubj=listSubj[iSubj]\n",
    "    if not os.path.isdir(os.path.join(path_ds,nameSubj)):\n",
    "        continue\n",
    "    listSess = np.array(os.listdir(os.path.join(path_ds,nameSubj)))\n",
    "    listSess = listSess[[n.endswith('.pkl') for n in listSess]]\n",
    "    listSess.sort()\n",
    "    for iSess in range(len(listSess)):\n",
    "        nameSess = listSess[iSess]\n",
    "        with open(os.path.join(path_ds,nameSubj,nameSess), 'rb') as filehandler:\n",
    "            sess = pickle.load(filehandler)\n",
    "\n",
    "        sessname = sess.fname.split('_')\n",
    "        \n",
    "        dfPokes=sess.dfPokes.sort_values('tsPoke')\n",
    "        dfRwd=sess.dfRwd.sort_values('tsRwd')\n",
    "\n",
    "        tsAllgood=max([dfRwd['tsRwd'][dfRwd.arm==0].min(),dfRwd['tsRwd'][dfRwd.arm==1].min(),dfRwd['tsRwd'][dfRwd.arm==2].min()])\n",
    "#         break\n",
    "#     break\n",
    "# for iPoke in [100]:\n",
    "        for iPoke in range(len(dfPokes)-1):\n",
    "            currArm=dfPokes['arm'].iloc[iPoke]\n",
    "            nextArm=dfPokes['arm'].iloc[iPoke+1]\n",
    "            tsCurrPoke=dfPokes['tsPoke'].iloc[iPoke]\n",
    "            tsNextPoke=dfPokes['tsPoke'].iloc[iPoke+1]\n",
    "\n",
    "            conds=np.array([])\n",
    "            conds=np.append(conds,nextArm!=currArm) #last response of a sequence\n",
    "        #     conds=np.append(conds,np.logical_and(dfRwd.arm==currArm,dfRwd['tsRwd']<tsCurrPoke).any()) #any prior reward at this arm\n",
    "            conds=np.append(conds,tsCurrPoke>tsAllgood) #\n",
    "            if conds.all():\n",
    "                date=sessname[3] + str(np.where([n == sessname[2][0:3] for n in cal])[0][0]+1).zfill(2) + sessname[2][3:6] + '_' + sessname[4].split('.')[0][-1]\n",
    "                dicTince['date'].append(date)\n",
    "                \n",
    "                dicTince['tinceR0'].append(tsCurrPoke-dfRwd['tsRwd'][np.logical_and(dfRwd.arm==0,dfRwd.tsRwd<tsCurrPoke)].max())\n",
    "                dicTince['tinceR1'].append(tsCurrPoke-dfRwd['tsRwd'][np.logical_and(dfRwd.arm==1,dfRwd.tsRwd<tsCurrPoke)].max())\n",
    "                dicTince['tinceR2'].append(tsCurrPoke-dfRwd['tsRwd'][np.logical_and(dfRwd.arm==2,dfRwd.tsRwd<tsCurrPoke)].max())\n",
    "\n",
    "                dicTince['tinceC0'].append(tsCurrPoke-dfPokes['tsPoke'][np.logical_and(dfPokes.arm==0,dfPokes.tsPoke<tsCurrPoke)].max())\n",
    "                dicTince['tinceC1'].append(tsCurrPoke-dfPokes['tsPoke'][np.logical_and(dfPokes.arm==1,dfPokes.tsPoke<tsCurrPoke)].max())\n",
    "                dicTince['tinceC2'].append(tsCurrPoke-dfPokes['tsPoke'][np.logical_and(dfPokes.arm==2,dfPokes.tsPoke<tsCurrPoke)].max())\n",
    "\n",
    "                \n",
    "                ndxVI=np.logical_and(dfVI.subj==nameSubj,dfVI.date==date)\n",
    "                currArmVal=np.array(list(set(dfVI[np.logical_and(ndxVI,dfVI.armNo==currArm)].armVal))).item()\n",
    "                nextArmVal=np.array(list(set(dfVI[np.logical_and(ndxVI,dfVI.armNo==nextArm)].armVal))).item()\n",
    "                dicTince['arm'].append(currArmVal)\n",
    "                dicTince['nextArm'].append(nextArmVal)\n",
    "                dicTince['travel'].append(tsNextPoke-tsCurrPoke)\n",
    "                dicTince['subj'].append(nameSubj)\n",
    "                dicTince['nextRwded'].append(np.any([dfRwd.tsRwd==tsNextPoke]))\n",
    "                if not np.any([dfRwd.tsRwd==tsNextPoke]):\n",
    "                    off.append(tsNextPoke-dfRwd.tsRwd[abs(dfRwd.tsRwd-tsNextPoke)==min(abs(dfRwd.tsRwd-tsNextPoke))].item())\n",
    "#         break\n",
    "#     break"
   ]
  },
  {
   "cell_type": "code",
   "execution_count": null,
   "metadata": {},
   "outputs": [],
   "source": [
    "dfTince = pd.DataFrame(dicTince)\n",
    "dfTince=dfTince[['subj', 'date','arm','nextArm','nextRwded','tinceR0','tinceR1','tinceR2','tinceC0','tinceC1','tinceC2','travel']]\n",
    "dfTince=dfTince.sort_values(['subj','date'])"
   ]
  },
  {
   "cell_type": "code",
   "execution_count": null,
   "metadata": {},
   "outputs": [],
   "source": [
    "with open(os.path.join('/Users','thiago','Neurocode','Scripts_TaskSuite','3AF_report','dfTince.pkl'),'wb') as fhandle:\n",
    "    pickle.dump(dfTince,fhandle)"
   ]
  },
  {
   "cell_type": "markdown",
   "metadata": {},
   "source": [
    "## dfSanPr (table with estimated and observed $p(reward)$)"
   ]
  },
  {
   "cell_type": "code",
   "execution_count": null,
   "metadata": {},
   "outputs": [],
   "source": [
    "dicSanPr = {'arm':[],'tince':[],'isRwded':[],'subj':[],'date':[],'shouldRwded':[]}#,'lambda_inv':[]\n",
    "nViol=0\n",
    "nViolShu=0\n",
    "                \n",
    "for iSubj in range(len(listSubj)):\n",
    "    nameSubj=listSubj[iSubj]\n",
    "    if not os.path.isdir(os.path.join(path_ds,nameSubj)):\n",
    "        continue\n",
    "    listSess = np.array(os.listdir(os.path.join(path_ds,nameSubj)))\n",
    "    listSess = listSess[[n.endswith('.pkl') for n in listSess]]\n",
    "    listSess.sort()\n",
    "    for iSess in range(len(listSess)):\n",
    "        nameSess = listSess[iSess]\n",
    "\n",
    "        with open(os.path.join(path_ds,nameSubj,nameSess), 'rb') as filehandler:\n",
    "            sess = pickle.load(filehandler)\n",
    "\n",
    "        sessname = sess.fname.split('_')\n",
    "        \n",
    "        dfPokes=sess.dfPokes.sort_values('tsPoke')\n",
    "        dfRwd=sess.dfRwd.sort_values('tsRwd')\n",
    "        dfSetup=sess.dfSetup.sort_values('tsSetup')\n",
    "\n",
    "        tsAllgood=max([dfRwd['tsRwd'][dfRwd.arm==0].min(),dfRwd['tsRwd'][dfRwd.arm==1].min(),dfRwd['tsRwd'][dfRwd.arm==2].min()])\n",
    "        \n",
    "        for iPoke in np.arange(len(dfPokes))[np.logical_and(dfPokes.isSwitch,dfPokes.tsPoke>tsAllgood)]:\n",
    "\n",
    "            currArm=dfPokes.arm.iloc[iPoke]\n",
    "            currTsPoke=dfPokes.tsPoke.iloc[iPoke]\n",
    "            tsLastRwdHere=dfRwd[np.logical_and(dfRwd.arm==currArm,dfRwd.tsRwd<currTsPoke)].tsRwd.max()\n",
    "            \n",
    "            assert(np.logical_and(dfPokes.isSwitch.iloc[iPoke],currTsPoke>tsAllgood))\n",
    "            \n",
    "            ndxVI=np.logical_and(dfVI.subj==nameSubj,dfVI.date==date)\n",
    "            currArmVal=np.array(list(set(dfVI[np.logical_and(ndxVI,dfVI.armNo==currArm)].armVal))).item()\n",
    "            dicSanPr['arm'].append(currArmVal)\n",
    "\n",
    "            ndx=np.logical_and(dfRwd.arm==currArm,dfRwd.tsRwd<currTsPoke)\n",
    "            dicSanPr['tince'].append(currTsPoke-dfRwd[ndx].tsRwd.max())\n",
    "\n",
    "            dicSanPr['shouldRwded'].append(dfSetup[np.logical_and(dfSetup.arm==currArm,dfSetup.tsSetup>tsLastRwdHere)].tsSetup.min()<currTsPoke)\n",
    "            if dicSanPr['shouldRwded'][-1]:\n",
    "                try:\n",
    "                    assert(dfSetup[np.isclose(currTsPoke,dfSetup.tsSetup)].arm.item()==currArm)\n",
    "                except:\n",
    "                    nViolShu=nViolShu+1\n",
    "\n",
    "#             dicSanPr['isRwded'].append(np.isclose(currTsPoke,dfRwd.tsRwd).any())\n",
    "            dicSanPr['isRwded'].append(dfPokes.iloc[iPoke].isRwded)\n",
    "            if dicSanPr['isRwded'][-1]:\n",
    "                try:\n",
    "                    assert(dfRwd[np.isclose(currTsPoke,dfRwd.tsRwd)].arm.item()==currArm)\n",
    "                except:\n",
    "                    nViol=nViol+1\n",
    "\n",
    "            dicSanPr['subj'].append(nameSubj)\n",
    "            \n",
    "            date=sessname[3] + str(np.where([n == sessname[2][0:3] for n in cal])[0][0]+1).zfill(2) + sessname[2][3:6] + '_' + sessname[4].split('.')[0][-1]\n",
    "            dicSanPr['date'].append(date)\n",
    "#             break            \n",
    "#         break\n",
    "#     break"
   ]
  },
  {
   "cell_type": "code",
   "execution_count": null,
   "metadata": {},
   "outputs": [],
   "source": [
    "print(nViol,nViolShu)\n",
    "dfSanPr = pd.DataFrame(dicSanPr)\n",
    "dfSanPr=dfSanPr[['subj', 'date','arm','tince','isRwded','shouldRwded']]\n",
    "print('Hamming distance: ' + str((dfSanPr.isRwded.values!=dfSanPr.shouldRwded.values).mean()))\n",
    "\n",
    "# dfSanPr=dfSanPr.sort_values(['subj','date'])"
   ]
  },
  {
   "cell_type": "code",
   "execution_count": null,
   "metadata": {},
   "outputs": [],
   "source": [
    "with open(os.path.join('/Users','thiago','Neurocode','Scripts_TaskSuite','3AF_report','dfSanPr.pkl'),'wb') as fhandle:\n",
    "    pickle.dump(dfSanPr,fhandle)"
   ]
  }
 ],
 "metadata": {
  "kernelspec": {
   "display_name": "Python [conda env:tasksuite]",
   "language": "python",
   "name": "conda-env-tasksuite-py"
  },
  "language_info": {
   "codemirror_mode": {
    "name": "ipython",
    "version": 3
   },
   "file_extension": ".py",
   "mimetype": "text/x-python",
   "name": "python",
   "nbconvert_exporter": "python",
   "pygments_lexer": "ipython3",
   "version": "3.6.4"
  }
 },
 "nbformat": 4,
 "nbformat_minor": 2
}
